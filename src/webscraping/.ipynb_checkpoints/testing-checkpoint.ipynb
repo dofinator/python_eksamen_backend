{
 "cells": [
  {
   "cell_type": "code",
   "execution_count": 6,
   "metadata": {},
   "outputs": [
    {
     "name": "stdout",
     "output_type": "stream",
     "text": [
      "<class 'pandas.core.series.Series'>\n",
      "[ 425000  995000  500000  875000  745000 1895000 1245000  695000  645000\n",
      "  625000 1498000 8900000  795000  995000  495000 2995000  495000  550000\n",
      " 1230000 1800000 3995000 1395000  750000 1595000  450000 4195000]\n"
     ]
    }
   ],
   "source": [
    "import pandas as pd\n",
    "import numpy as np\n",
    "import webscraper as ws\n",
    "from sklearn import preprocessing\n",
    "\n",
    "list = ws.get_all_residences_to_list()\n",
    "\n",
    "#ws.residences_to_csv(list, \"../data/residence.csv\")\n",
    "\n",
    "\n",
    "\n",
    "residence_data = pd.read_csv('../data/residence.csv', sep=\";\", index_col=False)\n",
    "\n",
    "\n",
    "\n",
    "# Convert gender to 0 or 1\n",
    "label_enc =preprocessing.LabelEncoder()\n",
    "residence_data['house_type'] = label_enc.fit_transform(residence_data['house_type'].astype(str))\n",
    "#print(residence_data)\n",
    "\n",
    "type(residence_data)\n",
    "result = residence_data.iloc[:,5]\n",
    "\n",
    "## Printing Series type\n",
    "print(type(result))\n",
    "\n",
    "x = np.array(['1.1', '2.2', '3.3'])\n",
    "y = x.astype(np.float)\n",
    "\n",
    "\n",
    "\n",
    "## Series to numpy\n",
    "x = result.to_numpy()\n",
    "target = x.astype(np.int)\n",
    "print(x)\n",
    "\n",
    "\n",
    "\n",
    "\n",
    "\n"
   ]
  }
 ],
 "metadata": {
  "kernelspec": {
   "display_name": "Python 3",
   "language": "python",
   "name": "python3"
  },
  "language_info": {
   "codemirror_mode": {
    "name": "ipython",
    "version": 3
   },
   "file_extension": ".py",
   "mimetype": "text/x-python",
   "name": "python",
   "nbconvert_exporter": "python",
   "pygments_lexer": "ipython3",
   "version": "3.7.6"
  }
 },
 "nbformat": 4,
 "nbformat_minor": 4
}
