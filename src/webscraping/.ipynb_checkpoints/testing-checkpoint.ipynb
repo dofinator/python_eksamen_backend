{
 "cells": [
  {
   "cell_type": "code",
   "execution_count": 32,
   "metadata": {},
   "outputs": [],
   "source": [
    "import pandas as pd\n",
    "import webscraper as ws\n",
    "from sklearn import preprocessing\n",
    "\n",
    "list = ws.get_all_residences_to_list()\n",
    "\n",
    "#ws.residences_to_csv(list, \"../data/residence.csv\")\n",
    "\n",
    "\n",
    "\n",
    "residence_data = pd.read_csv('../data/residence.csv', sep=\";\", index_col=False)\n",
    "\n",
    "\n",
    "\n",
    "# Convert gender to 0 or 1\n",
    "label_enc =preprocessing.LabelEncoder()\n",
    "residence_data['house_type'] = label_enc.fit_transform(residence_data['house_type'].astype(str))\n",
    "target = residence_data.iloc[:, 5]\n",
    "#target.drop(labels=None)\n",
    "#target\n"
   ]
  }
 ],
 "metadata": {
  "kernelspec": {
   "display_name": "Python 3",
   "language": "python",
   "name": "python3"
  },
  "language_info": {
   "codemirror_mode": {
    "name": "ipython",
    "version": 3
   },
   "file_extension": ".py",
   "mimetype": "text/x-python",
   "name": "python",
   "nbconvert_exporter": "python",
   "pygments_lexer": "ipython3",
   "version": "3.7.6"
  }
 },
 "nbformat": 4,
 "nbformat_minor": 4
}
