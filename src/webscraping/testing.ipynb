{
 "cells": [
  {
   "cell_type": "code",
   "execution_count": 1,
   "metadata": {},
   "outputs": [],
   "source": [
    "import pandas as pd\n",
    "import numpy as np\n",
    "#import webscraper as ws\n",
    "from sklearn import linear_model\n",
    "from sklearn import preprocessing\n",
    "from sklearn.model_selection import train_test_split"
   ]
  },
  {
   "cell_type": "code",
   "execution_count": 2,
   "metadata": {},
   "outputs": [],
   "source": [
    "#list = ws.get_all_residences_to_list()\n",
    "#ws.residences_to_csv(list, \"../data/residence.csv\")"
   ]
  },
  {
   "cell_type": "code",
   "execution_count": 3,
   "metadata": {
    "scrolled": false
   },
   "outputs": [],
   "source": [
    "# Load our webscraped data on houses\n",
    "residence_data = pd.read_csv('../data/residence.csv',sep=\";\", index_col=False)\n",
    "    \n",
    "  \n"
   ]
  },
  {
   "cell_type": "code",
   "execution_count": 4,
   "metadata": {},
   "outputs": [
    {
     "data": {
      "text/html": [
       "<div>\n",
       "<style scoped>\n",
       "    .dataframe tbody tr th:only-of-type {\n",
       "        vertical-align: middle;\n",
       "    }\n",
       "\n",
       "    .dataframe tbody tr th {\n",
       "        vertical-align: top;\n",
       "    }\n",
       "\n",
       "    .dataframe thead th {\n",
       "        text-align: right;\n",
       "    }\n",
       "</style>\n",
       "<table border=\"1\" class=\"dataframe\">\n",
       "  <thead>\n",
       "    <tr style=\"text-align: right;\">\n",
       "      <th></th>\n",
       "      <th>house_type</th>\n",
       "      <th>house_zip_code</th>\n",
       "      <th>house_rooms</th>\n",
       "      <th>house_square_meters</th>\n",
       "      <th>house_year</th>\n",
       "      <th>house_price</th>\n",
       "    </tr>\n",
       "  </thead>\n",
       "  <tbody>\n",
       "    <tr>\n",
       "      <th>0</th>\n",
       "      <td>4</td>\n",
       "      <td>7870</td>\n",
       "      <td>4</td>\n",
       "      <td>89.0</td>\n",
       "      <td>1960</td>\n",
       "      <td>195000</td>\n",
       "    </tr>\n",
       "    <tr>\n",
       "      <th>1</th>\n",
       "      <td>4</td>\n",
       "      <td>7770</td>\n",
       "      <td>4</td>\n",
       "      <td>140.0</td>\n",
       "      <td>1877</td>\n",
       "      <td>325000</td>\n",
       "    </tr>\n",
       "    <tr>\n",
       "      <th>2</th>\n",
       "      <td>1</td>\n",
       "      <td>8930</td>\n",
       "      <td>1</td>\n",
       "      <td>42.0</td>\n",
       "      <td>1969</td>\n",
       "      <td>345000</td>\n",
       "    </tr>\n",
       "    <tr>\n",
       "      <th>3</th>\n",
       "      <td>0</td>\n",
       "      <td>5464</td>\n",
       "      <td>3</td>\n",
       "      <td>86.0</td>\n",
       "      <td>1992</td>\n",
       "      <td>360173</td>\n",
       "    </tr>\n",
       "    <tr>\n",
       "      <th>4</th>\n",
       "      <td>0</td>\n",
       "      <td>8600</td>\n",
       "      <td>3</td>\n",
       "      <td>80.0</td>\n",
       "      <td>2005</td>\n",
       "      <td>365000</td>\n",
       "    </tr>\n",
       "    <tr>\n",
       "      <th>...</th>\n",
       "      <td>...</td>\n",
       "      <td>...</td>\n",
       "      <td>...</td>\n",
       "      <td>...</td>\n",
       "      <td>...</td>\n",
       "      <td>...</td>\n",
       "    </tr>\n",
       "    <tr>\n",
       "      <th>14024</th>\n",
       "      <td>4</td>\n",
       "      <td>5450</td>\n",
       "      <td>4</td>\n",
       "      <td>112.0</td>\n",
       "      <td>1957</td>\n",
       "      <td>1195000</td>\n",
       "    </tr>\n",
       "    <tr>\n",
       "      <th>14025</th>\n",
       "      <td>2</td>\n",
       "      <td>2640</td>\n",
       "      <td>2</td>\n",
       "      <td>50.0</td>\n",
       "      <td>1981</td>\n",
       "      <td>1195000</td>\n",
       "    </tr>\n",
       "    <tr>\n",
       "      <th>14026</th>\n",
       "      <td>4</td>\n",
       "      <td>6780</td>\n",
       "      <td>5</td>\n",
       "      <td>133.0</td>\n",
       "      <td>1979</td>\n",
       "      <td>1245000</td>\n",
       "    </tr>\n",
       "    <tr>\n",
       "      <th>14027</th>\n",
       "      <td>4</td>\n",
       "      <td>4262</td>\n",
       "      <td>8</td>\n",
       "      <td>219.0</td>\n",
       "      <td>1898</td>\n",
       "      <td>1345000</td>\n",
       "    </tr>\n",
       "    <tr>\n",
       "      <th>14028</th>\n",
       "      <td>4</td>\n",
       "      <td>9600</td>\n",
       "      <td>3</td>\n",
       "      <td>85.0</td>\n",
       "      <td>1962</td>\n",
       "      <td>1345000</td>\n",
       "    </tr>\n",
       "  </tbody>\n",
       "</table>\n",
       "<p>14029 rows × 6 columns</p>\n",
       "</div>"
      ],
      "text/plain": [
       "       house_type  house_zip_code  house_rooms  house_square_meters  \\\n",
       "0               4            7870            4                 89.0   \n",
       "1               4            7770            4                140.0   \n",
       "2               1            8930            1                 42.0   \n",
       "3               0            5464            3                 86.0   \n",
       "4               0            8600            3                 80.0   \n",
       "...           ...             ...          ...                  ...   \n",
       "14024           4            5450            4                112.0   \n",
       "14025           2            2640            2                 50.0   \n",
       "14026           4            6780            5                133.0   \n",
       "14027           4            4262            8                219.0   \n",
       "14028           4            9600            3                 85.0   \n",
       "\n",
       "       house_year  house_price  \n",
       "0            1960       195000  \n",
       "1            1877       325000  \n",
       "2            1969       345000  \n",
       "3            1992       360173  \n",
       "4            2005       365000  \n",
       "...           ...          ...  \n",
       "14024        1957      1195000  \n",
       "14025        1981      1195000  \n",
       "14026        1979      1245000  \n",
       "14027        1898      1345000  \n",
       "14028        1962      1345000  \n",
       "\n",
       "[14029 rows x 6 columns]"
      ]
     },
     "execution_count": 4,
     "metadata": {},
     "output_type": "execute_result"
    }
   ],
   "source": [
    "# Converting the data values from string to int for readability\n",
    "label_enc =preprocessing.LabelEncoder()\n",
    "residence_data['house_type'] = label_enc.fit_transform(residence_data['house_type'].astype(str))\n",
    "residence_data"
   ]
  },
  {
   "cell_type": "code",
   "execution_count": 5,
   "metadata": {},
   "outputs": [
    {
     "name": "stdout",
     "output_type": "stream",
     "text": [
      "       house_type  house_zip_code  house_rooms  house_square_meters  \\\n",
      "0        0.000493        0.970301     0.000493             0.010973   \n",
      "1        0.000500        0.971891     0.000500             0.017512   \n",
      "2        0.000109        0.976533     0.000109             0.004593   \n",
      "3        0.000000        0.939409     0.000516             0.014786   \n",
      "4        0.000000        0.973843     0.000340             0.009059   \n",
      "...           ...             ...          ...                  ...   \n",
      "14024    0.000691        0.940986     0.000691             0.019338   \n",
      "14025    0.000606        0.799762     0.000606             0.015147   \n",
      "14026    0.000566        0.959772     0.000708             0.018827   \n",
      "14027    0.000856        0.912504     0.001713             0.046888   \n",
      "14028    0.000408        0.979711     0.000306             0.008675   \n",
      "\n",
      "       house_year  \n",
      "0        0.241651  \n",
      "1        0.234780  \n",
      "2        0.215318  \n",
      "3        0.342479  \n",
      "4        0.227041  \n",
      "...           ...  \n",
      "14024    0.337892  \n",
      "14025    0.600125  \n",
      "14026    0.280146  \n",
      "14027    0.406366  \n",
      "14028    0.200228  \n",
      "\n",
      "[14029 rows x 5 columns]\n",
      "       house_price\n",
      "0           195000\n",
      "1           325000\n",
      "2           345000\n",
      "3           360173\n",
      "4           365000\n",
      "...            ...\n",
      "14024      1195000\n",
      "14025      1195000\n",
      "14026      1245000\n",
      "14027      1345000\n",
      "14028      1345000\n",
      "\n",
      "[14029 rows x 1 columns]\n"
     ]
    }
   ],
   "source": [
    "# data = data or the independent variables also know as x values\n",
    "# feature_names = the column names of the data\n",
    "# target = the target variable or the price of the houses or dependent variable also know as the y value\n",
    "\n",
    "df_x_nn = residence_data.drop('house_price', axis=1)\n",
    "df_y = pd.DataFrame(residence_data['house_price'])\n",
    "\n",
    "df_x_nono = preprocessing.normalize(df_x_nn)\n",
    "df_x = pd.DataFrame (df_x_nono, columns = ['house_type','house_zip_code','house_rooms', 'house_square_meters', 'house_year'])\n",
    "print(df_x)\n",
    "print(df_y)"
   ]
  },
  {
   "cell_type": "code",
   "execution_count": null,
   "metadata": {},
   "outputs": [],
   "source": []
  },
  {
   "cell_type": "code",
   "execution_count": 6,
   "metadata": {},
   "outputs": [
    {
     "data": {
      "text/html": [
       "<div>\n",
       "<style scoped>\n",
       "    .dataframe tbody tr th:only-of-type {\n",
       "        vertical-align: middle;\n",
       "    }\n",
       "\n",
       "    .dataframe tbody tr th {\n",
       "        vertical-align: top;\n",
       "    }\n",
       "\n",
       "    .dataframe thead th {\n",
       "        text-align: right;\n",
       "    }\n",
       "</style>\n",
       "<table border=\"1\" class=\"dataframe\">\n",
       "  <thead>\n",
       "    <tr style=\"text-align: right;\">\n",
       "      <th></th>\n",
       "      <th>house_type</th>\n",
       "      <th>house_zip_code</th>\n",
       "      <th>house_rooms</th>\n",
       "      <th>house_square_meters</th>\n",
       "      <th>house_year</th>\n",
       "    </tr>\n",
       "  </thead>\n",
       "  <tbody>\n",
       "    <tr>\n",
       "      <th>count</th>\n",
       "      <td>14029.000000</td>\n",
       "      <td>14029.000000</td>\n",
       "      <td>14029.000000</td>\n",
       "      <td>14029.000000</td>\n",
       "      <td>14029.000000</td>\n",
       "    </tr>\n",
       "    <tr>\n",
       "      <th>mean</th>\n",
       "      <td>0.000519</td>\n",
       "      <td>0.917216</td>\n",
       "      <td>0.000774</td>\n",
       "      <td>0.022757</td>\n",
       "      <td>0.360753</td>\n",
       "    </tr>\n",
       "    <tr>\n",
       "      <th>std</th>\n",
       "      <td>0.000286</td>\n",
       "      <td>0.075294</td>\n",
       "      <td>0.000426</td>\n",
       "      <td>0.013514</td>\n",
       "      <td>0.149005</td>\n",
       "    </tr>\n",
       "    <tr>\n",
       "      <th>min</th>\n",
       "      <td>0.000000</td>\n",
       "      <td>0.461309</td>\n",
       "      <td>0.000000</td>\n",
       "      <td>0.000189</td>\n",
       "      <td>0.125421</td>\n",
       "    </tr>\n",
       "    <tr>\n",
       "      <th>25%</th>\n",
       "      <td>0.000316</td>\n",
       "      <td>0.889920</td>\n",
       "      <td>0.000500</td>\n",
       "      <td>0.013728</td>\n",
       "      <td>0.230836</td>\n",
       "    </tr>\n",
       "    <tr>\n",
       "      <th>50%</th>\n",
       "      <td>0.000453</td>\n",
       "      <td>0.949613</td>\n",
       "      <td>0.000673</td>\n",
       "      <td>0.019537</td>\n",
       "      <td>0.312541</td>\n",
       "    </tr>\n",
       "    <tr>\n",
       "      <th>75%</th>\n",
       "      <td>0.000672</td>\n",
       "      <td>0.972874</td>\n",
       "      <td>0.000964</td>\n",
       "      <td>0.028264</td>\n",
       "      <td>0.454963</td>\n",
       "    </tr>\n",
       "    <tr>\n",
       "      <th>max</th>\n",
       "      <td>0.001806</td>\n",
       "      <td>0.992084</td>\n",
       "      <td>0.012227</td>\n",
       "      <td>0.193555</td>\n",
       "      <td>0.886613</td>\n",
       "    </tr>\n",
       "  </tbody>\n",
       "</table>\n",
       "</div>"
      ],
      "text/plain": [
       "         house_type  house_zip_code   house_rooms  house_square_meters  \\\n",
       "count  14029.000000    14029.000000  14029.000000         14029.000000   \n",
       "mean       0.000519        0.917216      0.000774             0.022757   \n",
       "std        0.000286        0.075294      0.000426             0.013514   \n",
       "min        0.000000        0.461309      0.000000             0.000189   \n",
       "25%        0.000316        0.889920      0.000500             0.013728   \n",
       "50%        0.000453        0.949613      0.000673             0.019537   \n",
       "75%        0.000672        0.972874      0.000964             0.028264   \n",
       "max        0.001806        0.992084      0.012227             0.193555   \n",
       "\n",
       "         house_year  \n",
       "count  14029.000000  \n",
       "mean       0.360753  \n",
       "std        0.149005  \n",
       "min        0.125421  \n",
       "25%        0.230836  \n",
       "50%        0.312541  \n",
       "75%        0.454963  \n",
       "max        0.886613  "
      ]
     },
     "execution_count": 6,
     "metadata": {},
     "output_type": "execute_result"
    }
   ],
   "source": [
    "# Get statistics from the data set, count, mean\n",
    "df_x.describe()"
   ]
  },
  {
   "cell_type": "code",
   "execution_count": 7,
   "metadata": {},
   "outputs": [],
   "source": [
    "# Initialize the linear regression model\n",
    "reg = linear_model.LinearRegression()"
   ]
  },
  {
   "cell_type": "code",
   "execution_count": 8,
   "metadata": {},
   "outputs": [],
   "source": [
    "# This splits the data into the 67% and the testing data to 20%\n",
    "x_train, x_test, y_train, y_test = train_test_split(df_x, df_y, test_size= 0.20, random_state= 42)\n",
    "\n"
   ]
  },
  {
   "cell_type": "code",
   "execution_count": 9,
   "metadata": {},
   "outputs": [
    {
     "data": {
      "text/plain": [
       "LinearRegression(copy_X=True, fit_intercept=True, n_jobs=None, normalize=False)"
      ]
     },
     "execution_count": 9,
     "metadata": {},
     "output_type": "execute_result"
    }
   ],
   "source": [
    "# Train the model with out training data\n",
    "reg.fit(x_train, y_train)"
   ]
  },
  {
   "cell_type": "code",
   "execution_count": 10,
   "metadata": {},
   "outputs": [
    {
     "name": "stdout",
     "output_type": "stream",
     "text": [
      "[[-7.80928861e+08 -2.65289808e+07  1.71646393e+08  1.24516005e+08\n",
      "  -1.13483959e+07]]\n"
     ]
    }
   ],
   "source": [
    "# Print the coeffecients/weights for each feature/column of our model\n",
    "print(reg.coef_)"
   ]
  },
  {
   "cell_type": "code",
   "execution_count": 17,
   "metadata": {},
   "outputs": [
    {
     "name": "stdout",
     "output_type": "stream",
     "text": [
      "[[1164568.53067172]]\n"
     ]
    }
   ],
   "source": [
    "# Print the predictions on our test data\n",
    "data = [[0.000408, 0.979711, 0.000306, 0.008675, 0.200228]]\n",
    "testing_frame = pd.DataFrame (data, columns = ['house_type','house_zip_code','house_rooms', 'house_square_meters', 'house_year'])\n",
    "#print(testing_frame)\n",
    "y_pred = reg.predict(testing_frame)\n",
    "print(y_pred)\n",
    "#Logistik reggression"
   ]
  },
  {
   "cell_type": "code",
   "execution_count": 12,
   "metadata": {},
   "outputs": [
    {
     "name": "stdout",
     "output_type": "stream",
     "text": [
      "      house_price\n",
      "7142      1585000\n",
      "9669      4995000\n",
      "3111      1298000\n",
      "327       2895000\n",
      "4098       795000\n",
      "...           ...\n",
      "3455      1698000\n",
      "8765      4150000\n",
      "4747      3495000\n",
      "4947      1875000\n",
      "6778      2595000\n",
      "\n",
      "[2806 rows x 1 columns]\n"
     ]
    }
   ],
   "source": [
    "# Print the actual values\n",
    "print(y_test)"
   ]
  },
  {
   "cell_type": "code",
   "execution_count": 13,
   "metadata": {},
   "outputs": [
    {
     "name": "stdout",
     "output_type": "stream",
     "text": [
      "house_price    7.976789e+12\n",
      "dtype: float64\n"
     ]
    }
   ],
   "source": [
    "# Check the model performance / accuracy using Mean Squared Error(MSE)\n",
    "print(np.mean((y_pred - y_test)**2))"
   ]
  }
 ],
 "metadata": {
  "kernelspec": {
   "display_name": "Python 3",
   "language": "python",
   "name": "python3"
  },
  "language_info": {
   "codemirror_mode": {
    "name": "ipython",
    "version": 3
   },
   "file_extension": ".py",
   "mimetype": "text/x-python",
   "name": "python",
   "nbconvert_exporter": "python",
   "pygments_lexer": "ipython3",
   "version": "3.7.6"
  }
 },
 "nbformat": 4,
 "nbformat_minor": 4
}
