{
 "cells": [
  {
   "cell_type": "code",
   "execution_count": 6,
   "metadata": {},
   "outputs": [],
   "source": [
    "import pandas as pd\n",
    "import numpy as np\n",
    "from sklearn import linear_model\n",
    "from sklearn.model_selection import train_test_split\n",
    "from sklearn.preprocessing import MinMaxScaler\n",
    "from sklearn import preprocessing\n",
    "\n"
   ]
  },
  {
   "cell_type": "code",
   "execution_count": 16,
   "metadata": {},
   "outputs": [
    {
     "data": {
      "text/html": [
       "<div>\n",
       "<style scoped>\n",
       "    .dataframe tbody tr th:only-of-type {\n",
       "        vertical-align: middle;\n",
       "    }\n",
       "\n",
       "    .dataframe tbody tr th {\n",
       "        vertical-align: top;\n",
       "    }\n",
       "\n",
       "    .dataframe thead th {\n",
       "        text-align: right;\n",
       "    }\n",
       "</style>\n",
       "<table border=\"1\" class=\"dataframe\">\n",
       "  <thead>\n",
       "    <tr style=\"text-align: right;\">\n",
       "      <th></th>\n",
       "      <th>house_type</th>\n",
       "      <th>house_zip_code</th>\n",
       "      <th>house_rooms</th>\n",
       "      <th>house_square_meters</th>\n",
       "      <th>house_year</th>\n",
       "      <th>house_price</th>\n",
       "    </tr>\n",
       "  </thead>\n",
       "  <tbody>\n",
       "    <tr>\n",
       "      <th>0</th>\n",
       "      <td>Andelsbolig</td>\n",
       "      <td>9500</td>\n",
       "      <td>3</td>\n",
<<<<<<< HEAD
       "      <td>100.0</td>\n",
       "      <td>1995</td>\n",
       "      <td>153289</td>\n",
=======
       "      <td>89.0</td>\n",
       "      <td>1906</td>\n",
       "      <td>148000</td>\n",
>>>>>>> b713721c18503c31ea414c9e49e02ab3ef2ca78d
       "    </tr>\n",
       "    <tr>\n",
       "      <th>1</th>\n",
       "      <td>Andelsbolig</td>\n",
       "      <td>6800</td>\n",
       "      <td>3</td>\n",
<<<<<<< HEAD
       "      <td>89.0</td>\n",
       "      <td>1900</td>\n",
       "      <td>275000</td>\n",
       "    </tr>\n",
       "    <tr>\n",
       "      <th>2</th>\n",
       "      <td>Fritidshus</td>\n",
       "      <td>8410</td>\n",
       "      <td>0</td>\n",
       "      <td>28.0</td>\n",
       "      <td>1970</td>\n",
       "      <td>349000</td>\n",
=======
       "      <td>98.0</td>\n",
       "      <td>2007</td>\n",
       "      <td>260000</td>\n",
       "    </tr>\n",
       "    <tr>\n",
       "      <th>2</th>\n",
       "      <td>Andelsbolig</td>\n",
       "      <td>7130</td>\n",
       "      <td>3</td>\n",
       "      <td>105.0</td>\n",
       "      <td>2007</td>\n",
       "      <td>275000</td>\n",
>>>>>>> b713721c18503c31ea414c9e49e02ab3ef2ca78d
       "    </tr>\n",
       "    <tr>\n",
       "      <th>3</th>\n",
       "      <td>Fritidshus</td>\n",
<<<<<<< HEAD
       "      <td>4942</td>\n",
       "      <td>2</td>\n",
       "      <td>36.0</td>\n",
       "      <td>1970</td>\n",
       "      <td>385000</td>\n",
=======
       "      <td>4920</td>\n",
       "      <td>3</td>\n",
       "      <td>50.0</td>\n",
       "      <td>1870</td>\n",
       "      <td>299000</td>\n",
>>>>>>> b713721c18503c31ea414c9e49e02ab3ef2ca78d
       "    </tr>\n",
       "    <tr>\n",
       "      <th>4</th>\n",
       "      <td>Villa</td>\n",
       "      <td>7660</td>\n",
       "      <td>3</td>\n",
<<<<<<< HEAD
       "      <td>75.0</td>\n",
       "      <td>1880</td>\n",
       "      <td>395000</td>\n",
=======
       "      <td>100.0</td>\n",
       "      <td>1951</td>\n",
       "      <td>350000</td>\n",
>>>>>>> b713721c18503c31ea414c9e49e02ab3ef2ca78d
       "    </tr>\n",
       "    <tr>\n",
       "      <th>...</th>\n",
       "      <td>...</td>\n",
       "      <td>...</td>\n",
       "      <td>...</td>\n",
       "      <td>...</td>\n",
       "      <td>...</td>\n",
       "      <td>...</td>\n",
       "    </tr>\n",
       "    <tr>\n",
<<<<<<< HEAD
       "      <th>6675</th>\n",
       "      <td>Villa</td>\n",
       "      <td>7800</td>\n",
       "      <td>5</td>\n",
       "      <td>166.0</td>\n",
       "      <td>1911</td>\n",
       "      <td>1395000</td>\n",
       "    </tr>\n",
       "    <tr>\n",
       "      <th>6676</th>\n",
       "      <td>Ejerlejlighed</td>\n",
       "      <td>4000</td>\n",
       "      <td>1</td>\n",
       "      <td>43.0</td>\n",
       "      <td>1969</td>\n",
       "      <td>1395000</td>\n",
       "    </tr>\n",
       "    <tr>\n",
       "      <th>6677</th>\n",
       "      <td>Fritidshus</td>\n",
       "      <td>4550</td>\n",
       "      <td>3</td>\n",
       "      <td>126.0</td>\n",
       "      <td>1981</td>\n",
       "      <td>1395000</td>\n",
       "    </tr>\n",
       "    <tr>\n",
       "      <th>6678</th>\n",
       "      <td>Villa</td>\n",
       "      <td>7400</td>\n",
       "      <td>3</td>\n",
       "      <td>98.0</td>\n",
       "      <td>1942</td>\n",
       "      <td>1395000</td>\n",
       "    </tr>\n",
       "    <tr>\n",
       "      <th>6679</th>\n",
       "      <td>Villa</td>\n",
       "      <td>8981</td>\n",
       "      <td>4</td>\n",
       "      <td>107.0</td>\n",
       "      <td>1969</td>\n",
       "      <td>1395000</td>\n",
       "    </tr>\n",
       "  </tbody>\n",
       "</table>\n",
       "<p>6680 rows × 6 columns</p>\n",
       "</div>"
      ],
      "text/plain": [
       "         house_type  house_zip_code  house_rooms  house_square_meters  \\\n",
       "0       Andelsbolig            6270            3                100.0   \n",
       "1             Villa            6430            3                 89.0   \n",
       "2        Fritidshus            8410            0                 28.0   \n",
       "3        Fritidshus            4942            2                 36.0   \n",
       "4             Villa            4900            3                 75.0   \n",
       "...             ...             ...          ...                  ...   \n",
       "6675          Villa            7800            5                166.0   \n",
       "6676  Ejerlejlighed            4000            1                 43.0   \n",
       "6677     Fritidshus            4550            3                126.0   \n",
       "6678          Villa            7400            3                 98.0   \n",
       "6679          Villa            8981            4                107.0   \n",
       "\n",
       "      house_year  house_price  \n",
       "0           1995       153289  \n",
       "1           1900       275000  \n",
       "2           1970       349000  \n",
       "3           1970       385000  \n",
       "4           1880       395000  \n",
       "...          ...          ...  \n",
       "6675        1911      1395000  \n",
       "6676        1969      1395000  \n",
       "6677        1981      1395000  \n",
       "6678        1942      1395000  \n",
       "6679        1969      1395000  \n",
       "\n",
       "[6680 rows x 6 columns]"
=======
       "      <th>33211</th>\n",
       "      <td>Fritidshus</td>\n",
       "      <td>6470</td>\n",
       "      <td>3</td>\n",
       "      <td>105.0</td>\n",
       "      <td>2010</td>\n",
       "      <td>1595000</td>\n",
       "    </tr>\n",
       "    <tr>\n",
       "      <th>33212</th>\n",
       "      <td>Villa</td>\n",
       "      <td>9830</td>\n",
       "      <td>2</td>\n",
       "      <td>149.0</td>\n",
       "      <td>1950</td>\n",
       "      <td>450000</td>\n",
       "    </tr>\n",
       "    <tr>\n",
       "      <th>33213</th>\n",
       "      <td>Villa</td>\n",
       "      <td>6950</td>\n",
       "      <td>6</td>\n",
       "      <td>260.0</td>\n",
       "      <td>2000</td>\n",
       "      <td>4195000</td>\n",
       "    </tr>\n",
       "    <tr>\n",
       "      <th>33214</th>\n",
       "      <td>Villa</td>\n",
       "      <td>6270</td>\n",
       "      <td>6</td>\n",
       "      <td>201.0</td>\n",
       "      <td>1992</td>\n",
       "      <td>745000</td>\n",
       "    </tr>\n",
       "    <tr>\n",
       "      <th>33215</th>\n",
       "      <td>Villa</td>\n",
       "      <td>6971</td>\n",
       "      <td>4</td>\n",
       "      <td>88.0</td>\n",
       "      <td>1927</td>\n",
       "      <td>400000</td>\n",
       "    </tr>\n",
       "  </tbody>\n",
       "</table>\n",
       "<p>33216 rows × 6 columns</p>\n",
       "</div>"
      ],
      "text/plain": [
       "        house_type  house_zip_code  house_rooms  house_square_meters  \\\n",
       "0      Andelsbolig            9500            3                 89.0   \n",
       "1      Andelsbolig            6800            3                 98.0   \n",
       "2      Andelsbolig            7130            3                105.0   \n",
       "3       Fritidshus            4920            3                 50.0   \n",
       "4            Villa            7660            3                100.0   \n",
       "...            ...             ...          ...                  ...   \n",
       "33211   Fritidshus            6470            3                105.0   \n",
       "33212        Villa            9830            2                149.0   \n",
       "33213        Villa            6950            6                260.0   \n",
       "33214        Villa            6270            6                201.0   \n",
       "33215        Villa            6971            4                 88.0   \n",
       "\n",
       "       house_year  house_price  \n",
       "0            1906       148000  \n",
       "1            2007       260000  \n",
       "2            2007       275000  \n",
       "3            1870       299000  \n",
       "4            1951       350000  \n",
       "...           ...          ...  \n",
       "33211        2010      1595000  \n",
       "33212        1950       450000  \n",
       "33213        2000      4195000  \n",
       "33214        1992       745000  \n",
       "33215        1927       400000  \n",
       "\n",
       "[33216 rows x 6 columns]"
>>>>>>> b713721c18503c31ea414c9e49e02ab3ef2ca78d
      ]
     },
     "execution_count": 16,
     "metadata": {},
     "output_type": "execute_result"
    }
   ],
   "source": [
    "# load the data set\n",
    "df = pd.read_csv('../data/residence.csv',sep=\";\", index_col=False)  \n",
    "df"
   ]
  },
  {
   "cell_type": "code",
   "execution_count": 19,
   "metadata": {},
   "outputs": [
    {
     "data": {
      "text/html": [
       "<div>\n",
       "<style scoped>\n",
       "    .dataframe tbody tr th:only-of-type {\n",
       "        vertical-align: middle;\n",
       "    }\n",
       "\n",
       "    .dataframe tbody tr th {\n",
       "        vertical-align: top;\n",
       "    }\n",
       "\n",
       "    .dataframe thead th {\n",
       "        text-align: right;\n",
       "    }\n",
       "</style>\n",
       "<table border=\"1\" class=\"dataframe\">\n",
       "  <thead>\n",
       "    <tr style=\"text-align: right;\">\n",
       "      <th></th>\n",
       "      <th>house_type</th>\n",
       "      <th>house_zip_code</th>\n",
       "      <th>house_rooms</th>\n",
       "      <th>house_square_meters</th>\n",
       "      <th>house_year</th>\n",
       "    </tr>\n",
       "  </thead>\n",
       "  <tbody>\n",
       "    <tr>\n",
<<<<<<< HEAD
       "      <th>4</th>\n",
=======
<<<<<<< HEAD
       "      <th>245</th>\n",
       "      <td>2995000</td>\n",
       "    </tr>\n",
       "    <tr>\n",
       "      <th>303</th>\n",
       "      <td>3995000</td>\n",
       "    </tr>\n",
       "    <tr>\n",
       "      <th>751</th>\n",
       "      <td>3795000</td>\n",
       "    </tr>\n",
       "    <tr>\n",
       "      <th>772</th>\n",
       "      <td>4095000</td>\n",
       "    </tr>\n",
       "    <tr>\n",
       "      <th>1164</th>\n",
       "      <td>3645000</td>\n",
       "    </tr>\n",
       "    <tr>\n",
       "      <th>1189</th>\n",
       "      <td>4495000</td>\n",
       "    </tr>\n",
       "    <tr>\n",
       "      <th>1191</th>\n",
       "      <td>4495000</td>\n",
       "    </tr>\n",
       "    <tr>\n",
       "      <th>1709</th>\n",
       "      <td>4495000</td>\n",
       "    </tr>\n",
       "    <tr>\n",
       "      <th>2440</th>\n",
       "      <td>3695000</td>\n",
       "    </tr>\n",
       "    <tr>\n",
       "      <th>2474</th>\n",
       "      <td>4195000</td>\n",
       "    </tr>\n",
       "    <tr>\n",
       "      <th>2509</th>\n",
       "      <td>5150000</td>\n",
       "    </tr>\n",
       "    <tr>\n",
       "      <th>2866</th>\n",
       "      <td>3595000</td>\n",
       "    </tr>\n",
       "    <tr>\n",
       "      <th>2900</th>\n",
       "      <td>4495000</td>\n",
       "    </tr>\n",
       "    <tr>\n",
       "      <th>3292</th>\n",
       "      <td>4450000</td>\n",
       "    </tr>\n",
       "    <tr>\n",
       "      <th>3395</th>\n",
       "      <td>4995000</td>\n",
       "    </tr>\n",
       "    <tr>\n",
       "      <th>3988</th>\n",
       "      <td>3895000</td>\n",
       "    </tr>\n",
       "    <tr>\n",
       "      <th>4004</th>\n",
       "      <td>4150000</td>\n",
       "    </tr>\n",
       "    <tr>\n",
       "      <th>4009</th>\n",
       "      <td>4245000</td>\n",
       "    </tr>\n",
       "    <tr>\n",
       "      <th>4623</th>\n",
       "      <td>2695000</td>\n",
       "    </tr>\n",
       "    <tr>\n",
       "      <th>4631</th>\n",
       "      <td>2795000</td>\n",
       "    </tr>\n",
       "    <tr>\n",
       "      <th>5076</th>\n",
       "      <td>4495000</td>\n",
       "    </tr>\n",
       "    <tr>\n",
       "      <th>5286</th>\n",
       "      <td>2495000</td>\n",
       "    </tr>\n",
       "    <tr>\n",
       "      <th>5295</th>\n",
       "      <td>2750000</td>\n",
       "    </tr>\n",
       "    <tr>\n",
       "      <th>5712</th>\n",
       "      <td>4895000</td>\n",
       "    </tr>\n",
       "    <tr>\n",
       "      <th>6132</th>\n",
       "      <td>4250000</td>\n",
       "    </tr>\n",
       "    <tr>\n",
       "      <th>6394</th>\n",
       "      <td>2400000</td>\n",
       "    </tr>\n",
       "    <tr>\n",
       "      <th>6463</th>\n",
       "      <td>3595000</td>\n",
       "    </tr>\n",
       "    <tr>\n",
       "      <th>6513</th>\n",
       "      <td>4995000</td>\n",
=======
       "      <th>506</th>\n",
       "      <td>3480</td>\n",
       "      <td>6</td>\n",
       "      <td>174.0</td>\n",
       "      <td>1972</td>\n",
       "    </tr>\n",
       "    <tr>\n",
       "      <th>1315</th>\n",
       "      <td>3480</td>\n",
>>>>>>> 001ad3889094120704edb03be95841247ee14b20
       "      <td>4</td>\n",
       "      <td>7660</td>\n",
       "      <td>3</td>\n",
       "      <td>100.0</td>\n",
       "      <td>1951</td>\n",
       "    </tr>\n",
       "    <tr>\n",
       "      <th>5</th>\n",
       "      <td>4</td>\n",
       "      <td>5932</td>\n",
       "      <td>3</td>\n",
       "      <td>59.0</td>\n",
       "      <td>1895</td>\n",
       "    </tr>\n",
       "    <tr>\n",
       "      <th>6</th>\n",
       "      <td>4</td>\n",
       "      <td>4891</td>\n",
       "      <td>3</td>\n",
       "      <td>126.0</td>\n",
       "      <td>1900</td>\n",
       "    </tr>\n",
       "    <tr>\n",
       "      <th>7</th>\n",
       "      <td>4</td>\n",
       "      <td>5953</td>\n",
       "      <td>6</td>\n",
       "      <td>213.0</td>\n",
       "      <td>1900</td>\n",
       "    </tr>\n",
       "    <tr>\n",
       "      <th>11</th>\n",
       "      <td>4</td>\n",
       "      <td>7860</td>\n",
       "      <td>4</td>\n",
       "      <td>140.0</td>\n",
       "      <td>1900</td>\n",
       "    </tr>\n",
       "    <tr>\n",
       "      <th>...</th>\n",
       "      <td>...</td>\n",
       "      <td>...</td>\n",
       "      <td>...</td>\n",
       "      <td>...</td>\n",
       "      <td>...</td>\n",
       "    </tr>\n",
       "    <tr>\n",
       "      <th>33210</th>\n",
       "      <td>4</td>\n",
       "      <td>7742</td>\n",
       "      <td>3</td>\n",
       "      <td>75.0</td>\n",
       "      <td>1906</td>\n",
       "    </tr>\n",
       "    <tr>\n",
       "      <th>33212</th>\n",
       "      <td>4</td>\n",
       "      <td>9830</td>\n",
       "      <td>2</td>\n",
       "      <td>149.0</td>\n",
       "      <td>1950</td>\n",
       "    </tr>\n",
       "    <tr>\n",
       "      <th>33213</th>\n",
       "      <td>4</td>\n",
       "      <td>6950</td>\n",
       "      <td>6</td>\n",
       "      <td>260.0</td>\n",
       "      <td>2000</td>\n",
       "    </tr>\n",
       "    <tr>\n",
       "      <th>33214</th>\n",
       "      <td>4</td>\n",
       "      <td>6270</td>\n",
       "      <td>6</td>\n",
       "      <td>201.0</td>\n",
       "      <td>1992</td>\n",
       "    </tr>\n",
       "    <tr>\n",
       "      <th>33215</th>\n",
       "      <td>4</td>\n",
       "      <td>6971</td>\n",
       "      <td>4</td>\n",
<<<<<<< HEAD
       "      <td>88.0</td>\n",
       "      <td>1927</td>\n",
=======
       "      <td>171.0</td>\n",
       "      <td>1940</td>\n",
>>>>>>> b713721c18503c31ea414c9e49e02ab3ef2ca78d
>>>>>>> 001ad3889094120704edb03be95841247ee14b20
       "    </tr>\n",
       "  </tbody>\n",
       "</table>\n",
       "<p>21349 rows × 5 columns</p>\n",
       "</div>"
      ],
      "text/plain": [
<<<<<<< HEAD
       "       house_type  house_zip_code  house_rooms  house_square_meters  \\\n",
       "4               4            7660            3                100.0   \n",
       "5               4            5932            3                 59.0   \n",
       "6               4            4891            3                126.0   \n",
       "7               4            5953            6                213.0   \n",
       "11              4            7860            4                140.0   \n",
       "...           ...             ...          ...                  ...   \n",
       "33210           4            7742            3                 75.0   \n",
       "33212           4            9830            2                149.0   \n",
       "33213           4            6950            6                260.0   \n",
       "33214           4            6270            6                201.0   \n",
       "33215           4            6971            4                 88.0   \n",
       "\n",
       "       house_year  \n",
       "4            1951  \n",
       "5            1895  \n",
       "6            1900  \n",
       "7            1900  \n",
       "11           1900  \n",
       "...           ...  \n",
       "33210        1906  \n",
       "33212        1950  \n",
       "33213        2000  \n",
       "33214        1992  \n",
       "33215        1927  \n",
       "\n",
       "[21349 rows x 5 columns]"
=======
<<<<<<< HEAD
       "      house_price\n",
       "245       2995000\n",
       "303       3995000\n",
       "751       3795000\n",
       "772       4095000\n",
       "1164      3645000\n",
       "1189      4495000\n",
       "1191      4495000\n",
       "1709      4495000\n",
       "2440      3695000\n",
       "2474      4195000\n",
       "2509      5150000\n",
       "2866      3595000\n",
       "2900      4495000\n",
       "3292      4450000\n",
       "3395      4995000\n",
       "3988      3895000\n",
       "4004      4150000\n",
       "4009      4245000\n",
       "4623      2695000\n",
       "4631      2795000\n",
       "5076      4495000\n",
       "5286      2495000\n",
       "5295      2750000\n",
       "5712      4895000\n",
       "6132      4250000\n",
       "6394      2400000\n",
       "6463      3595000\n",
       "6513      4995000"
=======
       "       house_zip_code  house_rooms  house_square_meters  house_year\n",
       "506              3480            6                174.0        1972\n",
       "1315             3480            4                 99.0        1949\n",
       "1997             3480            5                118.0        1980\n",
       "2229             3480            3                 92.0        1984\n",
       "2533             3480            6                145.0        1979\n",
       "3013             3480            4                138.0        2008\n",
       "3645             3480            3                 79.0        1965\n",
       "3914             3480            8                255.0        2019\n",
       "4771             3480            4                112.0        1930\n",
       "5059             3480            2                 66.0        1963\n",
       "5069             3480            2                 65.0        1963\n",
       "5603             3480            5                148.0        1998\n",
       "5653             3480            6                356.0        1921\n",
       "5890             3480            4                153.0        1767\n",
       "6212             3480            6                237.0        1962\n",
       "8422             3480            4                199.0        1978\n",
       "8439             3480            5                270.0        1952\n",
       "8717             3480            4                138.0        1970\n",
       "9282             3480            6                182.0        1988\n",
       "9693             3480            4                135.0        1986\n",
       "9942             3480            5                118.0        1980\n",
       "11668            3480            6                166.0        1979\n",
       "11738            3480            4                112.0        1979\n",
       "12362            3480            4                122.0        1775\n",
       "12573            3480            5                180.0        1885\n",
       "12757            3480            1                 45.0        1909\n",
       "13367            3480            5                153.0        1964\n",
       "13676            3480            6                173.0        1964\n",
       "14368            3480            3                 68.0        1949\n",
       "15089            3480            8                201.0        1939\n",
       "15500            3480            5                176.0        1979\n",
       "16537            3480            4                134.0        2006\n",
       "16864            3480            3                 99.0        1920\n",
       "17127            3480            6                115.0        1937\n",
       "17778            3480            6                165.0        1989\n",
       "18004            3480            5                135.0        1970\n",
       "18143            3480            5                122.0        1973\n",
       "18753            3480            5                105.0        1909\n",
       "19140            3480            4                111.0        1965\n",
       "19871            3480            5                214.0        1917\n",
       "20741            3480            8                227.0        1900\n",
       "21357            3480            4                155.0        1900\n",
       "21931            3480            3                 74.0        1995\n",
       "24228            3480            6                191.0        1988\n",
       "24352            3480            6                193.0        1930\n",
       "24750            3480            3                 72.0        1995\n",
       "26114            3480            5                117.0        1876\n",
       "27454            3480            5                140.0        1954\n",
       "28843            3480            4                171.0        1940"
>>>>>>> b713721c18503c31ea414c9e49e02ab3ef2ca78d
>>>>>>> 001ad3889094120704edb03be95841247ee14b20
      ]
     },
     "execution_count": 19,
     "metadata": {},
     "output_type": "execute_result"
    }
   ],
   "source": [
    "# transform the data and specify prediction parameters\n",
    "\n",
    "# Encode the house type from string to integer\n",
    "label_enc =preprocessing.LabelEncoder()\n",
    "df['house_type'] = label_enc.fit_transform(df['house_type'].astype(str))\n",
    "\n",
    "# Set zip for more precise predictions \n",
    "#df = df.loc[df['house_zip_code'] == 3480]\n",
    "\n",
    "# Set type for more precise predictions\n",
    "df = df.loc[df['house_type'] == 4]\n",
    "\n",
    "#Data\n",
    "df_x = df[['house_type','house_zip_code', 'house_rooms', 'house_square_meters',\n",
    "       'house_year']]\n",
    "#Target\n",
    "df_y = df[['house_price']]\n",
    "\n",
    "#df_y\n",
    "df_x\n",
    "#df"
   ]
  },
  {
   "cell_type": "code",
   "execution_count": 20,
   "metadata": {},
   "outputs": [],
   "source": [
    "# initialize the linear model\n",
    "reg = linear_model.LinearRegression()"
   ]
  },
  {
   "cell_type": "code",
   "execution_count": 21,
   "metadata": {},
   "outputs": [],
   "source": [
    "x_train, x_test, y_train, y_test = train_test_split(df_x, df_y, test_size=0.33, random_state=42 )"
   ]
  },
  {
   "cell_type": "code",
   "execution_count": 22,
   "metadata": {},
   "outputs": [],
   "source": [
    "#Normalize\n",
    "\n",
    "# fit scaler on training data\n",
    "norm = MinMaxScaler().fit(x_train)\n",
    "\n",
    "\n",
    "# transform training data\n",
    "x_train_norm = norm.transform(x_train)\n",
    "\n",
    "\n",
    "# transform testing dataa\n",
    "x_test_norm = norm.transform(x_test)\n"
   ]
  },
  {
   "cell_type": "code",
   "execution_count": 9,
   "metadata": {},
   "outputs": [
    {
     "name": "stdout",
     "output_type": "stream",
     "text": [
<<<<<<< HEAD
      "[[0.         0.         0.2        0.98639456]\n",
      " [0.         0.4        0.42222222 1.        ]\n",
      " [0.         0.2        0.32222222 0.91836735]\n",
      " [0.         0.6        1.         0.6462585 ]\n",
      " [0.         0.2        0.42222222 0.7414966 ]\n",
      " [0.         0.4        0.55555556 0.68027211]\n",
      " [0.         0.4        0.63333333 0.65986395]\n",
      " [0.         0.2        0.41111111 0.78911565]\n",
      " [0.         0.2        0.12222222 0.91836735]\n",
      " [0.         0.2        0.57777778 0.        ]\n",
      " [0.         0.         0.08888889 0.80272109]\n",
      " [0.         0.         0.17777778 0.93197279]\n",
      " [0.         0.2        0.33333333 0.54421769]\n",
      " [0.         0.2        0.37777778 0.3877551 ]\n",
      " [0.         0.4        0.62222222 0.93197279]\n",
      " [0.         1.         0.9        0.28571429]\n",
      " [0.         0.         0.         1.        ]\n",
      " [0.         0.6        0.8        0.63945578]]\n"
=======
      "[[ 0.         -0.54772256  0.15089231 -1.13347065]\n",
      " [ 0.          0.18257419 -0.56305731 -1.64947862]\n",
      " [ 0.         -0.54772256  0.97757083  0.54355528]\n",
      " [ 0.         -2.00831604 -1.52125286  0.22105029]\n",
      " [ 0.          0.18257419  2.31152934 -0.01545336]\n",
      " [ 0.          0.18257419  0.62059602 -1.45597563]\n",
      " [ 0.          0.91287093 -0.60063361 -0.33795835]\n",
      " [ 0.          0.18257419  0.54544342  0.56505561]\n",
      " [ 0.          0.91287093  0.50786713  0.41455328]\n",
      " [ 0.          0.91287093  0.82726564  0.7585586 ]\n",
      " [ 0.         -1.2780193  -0.90124398 -0.703464  ]\n",
      " [ 0.         -0.54772256 -0.1685062   1.18856525]\n",
      " [ 0.          2.37346442  1.01514712 -0.29495768]\n",
      " [ 0.          0.18257419  0.01937528  0.97356192]\n",
      " [ 0.          0.18257419 -0.46911657  0.43605362]\n",
      " [ 0.         -0.54772256 -0.90124398 -0.07995436]\n",
      " [ 0.          0.91287093  0.35756194  0.56505561]\n",
      " [ 0.          0.18257419 -0.54426916  0.58655594]\n",
      " [ 0.          0.18257419 -0.78851509 -0.93996766]\n",
      " [ 0.          0.18257419 -0.22487065  0.37155262]\n",
      " [ 0.         -0.54772256 -0.46911657 -3.82101219]\n",
      " [ 0.          0.18257419  1.25939305 -0.767965  ]\n",
      " [ 0.         -2.00831604 -1.54004101  0.22105029]\n",
      " [ 0.         -0.54772256 -0.65699805  0.56505561]\n",
      " [ 0.          0.91287093  0.65817231  0.7585586 ]\n",
      " [ 0.         -0.54772256  0.45150268 -0.27345735]\n",
      " [ 0.          0.18257419 -0.54426916  0.58655594]\n",
      " [ 0.          2.37346442  2.02970712  1.4250689 ]\n",
      " [ 0.         -1.2780193  -1.37094768  0.90906093]\n",
      " [ 0.          0.91287093  1.69152045  0.19954996]\n",
      " [ 0.         -1.2780193  -1.48367657 -0.07995436]\n",
      " [ 0.         -0.54772256 -0.6757862   0.26405096]]\n"
>>>>>>> b713721c18503c31ea414c9e49e02ab3ef2ca78d
     ]
    }
   ],
   "source": [
    "# Standardize\n",
    "from sklearn.preprocessing import StandardScaler\n",
    "\n",
    "scale= StandardScaler()\n",
    " \n",
    "# standardization of dependent variables\n",
    "x_train_std = scale.fit_transform(x_train)\n",
    "x_test_std = scale.fit_transform(x_test) \n",
    "print(x_train_std)\n",
    "#print(x_test)"
   ]
  },
  {
   "cell_type": "code",
   "execution_count": 28,
   "metadata": {},
   "outputs": [
    {
     "name": "stdout",
     "output_type": "stream",
     "text": [
      "[[0.         0.3340319  0.14       0.36014767 0.82846715]\n",
      " [0.         0.95459308 0.1        0.15978987 0.91849148]\n",
      " [0.         0.96274304 0.16       0.36402556 0.88686131]\n",
      " ...\n",
      " [0.         0.94411457 0.1        0.15720461 0.91119221]\n",
      " [0.         0.60880196 0.14       0.2903456  0.93430657]\n",
      " [0.         0.92688322 0.12       0.23088457 0.85644769]]\n"
     ]
    }
   ],
   "source": [
    "print(x_train_norm)"
   ]
  },
  {
   "cell_type": "code",
<<<<<<< HEAD
   "execution_count": 29,
=======
<<<<<<< HEAD
   "execution_count": 8,
=======
   "execution_count": 212,
>>>>>>> b713721c18503c31ea414c9e49e02ab3ef2ca78d
>>>>>>> 001ad3889094120704edb03be95841247ee14b20
   "metadata": {},
   "outputs": [
    {
     "name": "stdout",
     "output_type": "stream",
     "text": [
<<<<<<< HEAD
      "      house_price\n",
      "3988      3895000\n",
      "303       3995000\n",
      "1164      3645000\n",
      "1189      4495000\n",
      "751       3795000\n",
      "4004      4150000\n",
      "5712      4895000\n",
      "772       4095000\n",
      "6463      3595000\n",
      "6132      4250000\n",
      "4623      2695000\n",
      "6513      4995000\n",
      "5076      4495000\n",
      "1709      4495000\n",
      "2509      5150000\n",
      "3395      4995000\n",
      "4631      2795000\n",
      "1191      4495000\n"
=======
      "       house_price\n",
<<<<<<< HEAD
      "19347      1999999\n",
      "29621       398000\n",
      "30845      1295000\n",
      "14746      1495000\n",
      "12042      3798000\n",
      "...            ...\n",
      "19761      2495000\n",
      "20871      1295000\n",
      "10068       845000\n",
      "1620       1695000\n",
      "26013      1248000\n",
      "\n",
      "[14303 rows x 1 columns]\n"
=======
      "21357      3995000\n",
      "26114      3095000\n",
      "8422       5495000\n",
      "5059       1595000\n",
      "8439       8795000\n",
      "12573      6745000\n",
      "17127      2895000\n",
      "15500      5395000\n",
      "506        4095000\n",
      "24228      4895000\n",
      "16864      3395000\n",
      "3013       3425000\n",
      "15089     13800000\n",
      "5603       4500000\n",
      "18143      3650000\n",
      "1315       2895000\n",
      "11668      4395000\n",
      "1997       3095000\n",
      "18753      3645000\n",
      "18004      4295000\n",
      "12362      2375000\n",
      "19871      4995000\n",
      "5069       1675000\n",
      "11738      3695000\n",
      "9282       5495000\n",
      "28843      5395000\n",
      "9942       2995000\n",
      "3914      14500000\n",
      "21931      1995000\n",
      "6212       4175000\n",
      "14368      1945000\n",
      "19140      2395000\n"
>>>>>>> b713721c18503c31ea414c9e49e02ab3ef2ca78d
>>>>>>> 001ad3889094120704edb03be95841247ee14b20
     ]
    }
   ],
   "source": [
    "print(y_train)"
   ]
  },
  {
   "cell_type": "code",
<<<<<<< HEAD
   "execution_count": 25,
=======
<<<<<<< HEAD
   "execution_count": 9,
=======
   "execution_count": 203,
>>>>>>> b713721c18503c31ea414c9e49e02ab3ef2ca78d
>>>>>>> 001ad3889094120704edb03be95841247ee14b20
   "metadata": {},
   "outputs": [
    {
     "data": {
      "text/plain": [
       "LinearRegression(copy_X=True, fit_intercept=True, n_jobs=None, normalize=False)"
      ]
     },
<<<<<<< HEAD
     "execution_count": 25,
=======
<<<<<<< HEAD
     "execution_count": 9,
=======
     "execution_count": 203,
>>>>>>> b713721c18503c31ea414c9e49e02ab3ef2ca78d
>>>>>>> 001ad3889094120704edb03be95841247ee14b20
     "metadata": {},
     "output_type": "execute_result"
    }
   ],
   "source": [
    "reg.fit(x_train_norm, y_train)\n",
    "#reg.fit(x_train_std, y_train)"
   ]
  },
  {
   "cell_type": "code",
<<<<<<< HEAD
   "execution_count": 11,
=======
<<<<<<< HEAD
   "execution_count": 10,
=======
   "execution_count": 218,
>>>>>>> b713721c18503c31ea414c9e49e02ab3ef2ca78d
>>>>>>> 001ad3889094120704edb03be95841247ee14b20
   "metadata": {},
   "outputs": [
    {
     "data": {
      "text/html": [
       "<div>\n",
       "<style scoped>\n",
       "    .dataframe tbody tr th:only-of-type {\n",
       "        vertical-align: middle;\n",
       "    }\n",
       "\n",
       "    .dataframe tbody tr th {\n",
       "        vertical-align: top;\n",
       "    }\n",
       "\n",
       "    .dataframe thead th {\n",
       "        text-align: right;\n",
       "    }\n",
       "</style>\n",
       "<table border=\"1\" class=\"dataframe\">\n",
       "  <thead>\n",
       "    <tr style=\"text-align: right;\">\n",
       "      <th></th>\n",
       "      <th>house_zip_code</th>\n",
       "      <th>house_rooms</th>\n",
       "      <th>house_square_meters</th>\n",
       "      <th>house_year</th>\n",
       "    </tr>\n",
       "  </thead>\n",
       "  <tbody>\n",
       "    <tr>\n",
       "      <th>0</th>\n",
       "      <td>0.0</td>\n",
       "      <td>-0.547723</td>\n",
       "      <td>-0.675786</td>\n",
       "      <td>0.264051</td>\n",
       "    </tr>\n",
       "  </tbody>\n",
       "</table>\n",
       "</div>"
      ],
      "text/plain": [
       "   house_zip_code  house_rooms  house_square_meters  house_year\n",
       "0             0.0    -0.547723            -0.675786    0.264051"
      ]
     },
<<<<<<< HEAD
     "execution_count": 11,
=======
<<<<<<< HEAD
     "execution_count": 10,
=======
     "execution_count": 218,
>>>>>>> b713721c18503c31ea414c9e49e02ab3ef2ca78d
>>>>>>> 001ad3889094120704edb03be95841247ee14b20
     "metadata": {},
     "output_type": "execute_result"
    }
   ],
   "source": [
    "data = [[0,-0.54772256, 0.15089231, -1.13347065]]\n",
    "testing_df = pd.DataFrame (data, columns = ['house_zip_code','house_rooms', 'house_square_meters', 'house_year'])\n",
    "testing_df\n",
    "# result should be 1999999"
   ]
  },
  {
   "cell_type": "code",
<<<<<<< HEAD
   "execution_count": 26,
=======
<<<<<<< HEAD
   "execution_count": 19,
=======
   "execution_count": 219,
>>>>>>> b713721c18503c31ea414c9e49e02ab3ef2ca78d
>>>>>>> 001ad3889094120704edb03be95841247ee14b20
   "metadata": {},
   "outputs": [
    {
     "name": "stdout",
     "output_type": "stream",
     "text": [
<<<<<<< HEAD
      "[[2881025.05203669]\n",
      " [3515373.86677263]\n",
      " [ 707055.59699286]\n",
      " ...\n",
      " [ 978965.19203833]\n",
      " [3825834.37369064]\n",
      " [1440155.93179809]]\n"
=======
<<<<<<< HEAD
      "[[4923611.71949001]\n",
      " [4155223.38411241]\n",
      " [3016208.51694467]\n",
      " [3655453.07265739]\n",
      " [3641154.19219429]\n",
      " [3788040.18572243]\n",
      " [5005782.72010536]\n",
      " [4508362.35496578]\n",
      " [3498729.67937998]\n",
      " [3749111.96020341]]\n"
=======
      "[[3031771.39484187]]\n"
>>>>>>> b713721c18503c31ea414c9e49e02ab3ef2ca78d
>>>>>>> 001ad3889094120704edb03be95841247ee14b20
     ]
    }
   ],
   "source": [
    "# predictions\n",
<<<<<<< HEAD
    "pred = reg.predict(x_test_norm)\n",
    "print(pred)"
=======
    "#pred = reg.predict(testing_df)\n",
    "pred = reg.predict(x_test_norm)\n",
    "#pred = reg.predict(x_test_std)\n",
    "print(pred) "
>>>>>>> b713721c18503c31ea414c9e49e02ab3ef2ca78d
   ]
  },
  {
   "cell_type": "code",
<<<<<<< HEAD
   "execution_count": 27,
=======
<<<<<<< HEAD
   "execution_count": 20,
=======
   "execution_count": 220,
>>>>>>> b713721c18503c31ea414c9e49e02ab3ef2ca78d
>>>>>>> 001ad3889094120704edb03be95841247ee14b20
   "metadata": {},
   "outputs": [
    {
     "data": {
      "text/html": [
       "<div>\n",
       "<style scoped>\n",
       "    .dataframe tbody tr th:only-of-type {\n",
       "        vertical-align: middle;\n",
       "    }\n",
       "\n",
       "    .dataframe tbody tr th {\n",
       "        vertical-align: top;\n",
       "    }\n",
       "\n",
       "    .dataframe thead th {\n",
       "        text-align: right;\n",
       "    }\n",
       "</style>\n",
       "<table border=\"1\" class=\"dataframe\">\n",
       "  <thead>\n",
       "    <tr style=\"text-align: right;\">\n",
       "      <th></th>\n",
       "      <th>house_price</th>\n",
       "    </tr>\n",
       "  </thead>\n",
       "  <tbody>\n",
       "    <tr>\n",
<<<<<<< HEAD
       "      <th>24182</th>\n",
       "      <td>595000</td>\n",
=======
<<<<<<< HEAD
       "      <th>2474</th>\n",
       "      <td>4195000</td>\n",
       "    </tr>\n",
       "    <tr>\n",
       "      <th>6394</th>\n",
       "      <td>2400000</td>\n",
       "    </tr>\n",
       "    <tr>\n",
       "      <th>2440</th>\n",
       "      <td>3695000</td>\n",
       "    </tr>\n",
       "    <tr>\n",
       "      <th>5286</th>\n",
       "      <td>2495000</td>\n",
       "    </tr>\n",
       "    <tr>\n",
       "      <th>245</th>\n",
       "      <td>2995000</td>\n",
       "    </tr>\n",
       "    <tr>\n",
       "      <th>2900</th>\n",
       "      <td>4495000</td>\n",
       "    </tr>\n",
       "    <tr>\n",
       "      <th>4009</th>\n",
       "      <td>4245000</td>\n",
       "    </tr>\n",
       "    <tr>\n",
       "      <th>5295</th>\n",
       "      <td>2750000</td>\n",
       "    </tr>\n",
       "    <tr>\n",
       "      <th>2866</th>\n",
       "      <td>3595000</td>\n",
       "    </tr>\n",
       "    <tr>\n",
       "      <th>3292</th>\n",
       "      <td>4450000</td>\n",
=======
       "      <th>5890</th>\n",
       "      <td>5500000</td>\n",
       "    </tr>\n",
       "    <tr>\n",
       "      <th>24750</th>\n",
       "      <td>1835000</td>\n",
       "    </tr>\n",
       "    <tr>\n",
       "      <th>27454</th>\n",
       "      <td>2750000</td>\n",
       "    </tr>\n",
       "    <tr>\n",
       "      <th>24352</th>\n",
       "      <td>6800000</td>\n",
       "    </tr>\n",
       "    <tr>\n",
       "      <th>8717</th>\n",
       "      <td>3795000</td>\n",
>>>>>>> 001ad3889094120704edb03be95841247ee14b20
       "    </tr>\n",
       "    <tr>\n",
       "      <th>8738</th>\n",
       "      <td>4995000</td>\n",
       "    </tr>\n",
       "    <tr>\n",
       "      <th>10107</th>\n",
       "      <td>1295000</td>\n",
       "    </tr>\n",
       "    <tr>\n",
       "      <th>1520</th>\n",
       "      <td>895000</td>\n",
       "    </tr>\n",
       "    <tr>\n",
       "      <th>31176</th>\n",
       "      <td>845000</td>\n",
       "    </tr>\n",
       "    <tr>\n",
       "      <th>...</th>\n",
       "      <td>...</td>\n",
       "    </tr>\n",
       "    <tr>\n",
       "      <th>14547</th>\n",
       "      <td>1398000</td>\n",
       "    </tr>\n",
       "    <tr>\n",
       "      <th>24952</th>\n",
       "      <td>1775000</td>\n",
       "    </tr>\n",
       "    <tr>\n",
       "      <th>470</th>\n",
       "      <td>3595000</td>\n",
       "    </tr>\n",
       "    <tr>\n",
       "      <th>23456</th>\n",
       "      <td>1695000</td>\n",
       "    </tr>\n",
       "    <tr>\n",
<<<<<<< HEAD
       "      <th>32182</th>\n",
       "      <td>1878000</td>\n",
=======
       "      <th>20741</th>\n",
       "      <td>6455000</td>\n",
>>>>>>> b713721c18503c31ea414c9e49e02ab3ef2ca78d
>>>>>>> 001ad3889094120704edb03be95841247ee14b20
       "    </tr>\n",
       "  </tbody>\n",
       "</table>\n",
       "<p>7046 rows × 1 columns</p>\n",
       "</div>"
      ],
      "text/plain": [
<<<<<<< HEAD
       "      house_price\n",
       "2474      4195000\n",
       "6394      2400000\n",
       "2440      3695000\n",
       "5286      2495000\n",
       "245       2995000\n",
       "2900      4495000\n",
       "4009      4245000\n",
       "5295      2750000\n",
       "2866      3595000\n",
       "3292      4450000"
      ]
     },
     "execution_count": 20,
=======
       "       house_price\n",
       "24182       595000\n",
       "8738       4995000\n",
       "10107      1295000\n",
       "1520        895000\n",
       "31176       845000\n",
       "...            ...\n",
       "14547      1398000\n",
       "24952      1775000\n",
       "470        3595000\n",
       "23456      1695000\n",
       "32182      1878000\n",
       "\n",
       "[7046 rows x 1 columns]"
      ]
     },
<<<<<<< HEAD
     "execution_count": 27,
=======
     "execution_count": 220,
>>>>>>> b713721c18503c31ea414c9e49e02ab3ef2ca78d
>>>>>>> 001ad3889094120704edb03be95841247ee14b20
     "metadata": {},
     "output_type": "execute_result"
    }
   ],
   "source": [
    "y_test"
   ]
  },
  {
   "cell_type": "code",
<<<<<<< HEAD
   "execution_count": 13,
=======
   "execution_count": 222,
   "metadata": {},
   "outputs": [],
   "source": [
    "#Standerdize the end result\n",
    "y_test_std = scale.fit_transform(y_test)\n",
    "y_pred_std = scale.fit_transform(pred) "
   ]
  },
  {
   "cell_type": "code",
   "execution_count": 223,
>>>>>>> b713721c18503c31ea414c9e49e02ab3ef2ca78d
   "metadata": {},
   "outputs": [
    {
     "name": "stdout",
     "output_type": "stream",
     "text": [
<<<<<<< HEAD
      "house_price    1.241624e+12\n",
      "dtype: float64\n"
=======
      "1.0\n"
>>>>>>> b713721c18503c31ea414c9e49e02ab3ef2ca78d
     ]
    }
   ],
   "source": [
<<<<<<< HEAD
    "print(np.mean((pred - y_test)**2))\n"
=======
    "print(np.mean((y_pred_std - y_test_std)**2))"
>>>>>>> b713721c18503c31ea414c9e49e02ab3ef2ca78d
   ]
  },
  {
   "cell_type": "code",
   "execution_count": null,
   "metadata": {},
   "outputs": [],
   "source": []
  }
 ],
 "metadata": {
  "kernelspec": {
   "display_name": "Python 3",
   "language": "python",
   "name": "python3"
  },
  "language_info": {
   "codemirror_mode": {
    "name": "ipython",
    "version": 3
   },
   "file_extension": ".py",
   "mimetype": "text/x-python",
   "name": "python",
   "nbconvert_exporter": "python",
   "pygments_lexer": "ipython3",
   "version": "3.7.6"
  }
 },
 "nbformat": 4,
 "nbformat_minor": 4
}
