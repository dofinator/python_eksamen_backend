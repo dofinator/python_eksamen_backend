{
 "cells": [
  {
   "cell_type": "code",
   "execution_count": 9,
   "metadata": {},
   "outputs": [],
   "source": [
    "import pandas as pd\n",
    "import numpy as np\n",
    "from sklearn import preprocessing\n",
    "from sklearn import linear_model\n",
    "from sklearn.model_selection import train_test_split"
   ]
  },
  {
   "cell_type": "code",
   "execution_count": 2,
   "metadata": {},
   "outputs": [
    {
     "data": {
      "text/html": [
       "<div>\n",
       "<style scoped>\n",
       "    .dataframe tbody tr th:only-of-type {\n",
       "        vertical-align: middle;\n",
       "    }\n",
       "\n",
       "    .dataframe tbody tr th {\n",
       "        vertical-align: top;\n",
       "    }\n",
       "\n",
       "    .dataframe thead th {\n",
       "        text-align: right;\n",
       "    }\n",
       "</style>\n",
       "<table border=\"1\" class=\"dataframe\">\n",
       "  <thead>\n",
       "    <tr style=\"text-align: right;\">\n",
       "      <th></th>\n",
       "      <th>house_type</th>\n",
       "      <th>house_zip_code</th>\n",
       "      <th>house_rooms</th>\n",
       "      <th>house_square_meters</th>\n",
       "      <th>house_year</th>\n",
       "      <th>house_price</th>\n",
       "    </tr>\n",
       "  </thead>\n",
       "  <tbody>\n",
       "    <tr>\n",
       "      <th>0</th>\n",
       "      <td>Villa</td>\n",
       "      <td>7870</td>\n",
       "      <td>4</td>\n",
       "      <td>89.0</td>\n",
       "      <td>1960</td>\n",
       "      <td>195000</td>\n",
       "    </tr>\n",
       "    <tr>\n",
       "      <th>1</th>\n",
       "      <td>Villa</td>\n",
       "      <td>7770</td>\n",
       "      <td>4</td>\n",
       "      <td>140.0</td>\n",
       "      <td>1877</td>\n",
       "      <td>325000</td>\n",
       "    </tr>\n",
       "    <tr>\n",
       "      <th>2</th>\n",
       "      <td>Ejerlejlighed</td>\n",
       "      <td>8930</td>\n",
       "      <td>1</td>\n",
       "      <td>42.0</td>\n",
       "      <td>1969</td>\n",
       "      <td>345000</td>\n",
       "    </tr>\n",
       "    <tr>\n",
       "      <th>3</th>\n",
       "      <td>Andelsbolig</td>\n",
       "      <td>5464</td>\n",
       "      <td>3</td>\n",
       "      <td>86.0</td>\n",
       "      <td>1992</td>\n",
       "      <td>360173</td>\n",
       "    </tr>\n",
       "    <tr>\n",
       "      <th>4</th>\n",
       "      <td>Andelsbolig</td>\n",
       "      <td>8600</td>\n",
       "      <td>3</td>\n",
       "      <td>80.0</td>\n",
       "      <td>2005</td>\n",
       "      <td>365000</td>\n",
       "    </tr>\n",
       "  </tbody>\n",
       "</table>\n",
       "</div>"
      ],
      "text/plain": [
       "      house_type  house_zip_code  house_rooms  house_square_meters  \\\n",
       "0          Villa            7870            4                 89.0   \n",
       "1          Villa            7770            4                140.0   \n",
       "2  Ejerlejlighed            8930            1                 42.0   \n",
       "3    Andelsbolig            5464            3                 86.0   \n",
       "4    Andelsbolig            8600            3                 80.0   \n",
       "\n",
       "   house_year  house_price  \n",
       "0        1960       195000  \n",
       "1        1877       325000  \n",
       "2        1969       345000  \n",
       "3        1992       360173  \n",
       "4        2005       365000  "
      ]
     },
     "execution_count": 2,
     "metadata": {},
     "output_type": "execute_result"
    }
   ],
   "source": [
    "housing = pd.read_csv('../data/residence.csv',sep=\";\", index_col=False)\n",
    "housing.head()"
   ]
  },
  {
   "cell_type": "code",
   "execution_count": 3,
   "metadata": {},
   "outputs": [],
   "source": [
    "X = housing[['house_zip_code', 'house_rooms', 'house_square_meters',\n",
    "       'house_year']].apply(pd.Float64Index) \n",
    "\n",
    "y = housing[['house_price']].apply(pd.Float64Index) "
   ]
  },
  {
   "cell_type": "code",
   "execution_count": 4,
   "metadata": {},
   "outputs": [],
   "source": [
    "\n",
    "#Splitting the data into 70% Training data nad 30% test data\n",
    "X_train, X_test, y_train, y_test = train_test_split(X, y, test_size=0.3, random_state=42)"
   ]
  },
  {
   "cell_type": "code",
   "execution_count": 15,
   "metadata": {},
   "outputs": [],
   "source": [
    "reg = linear_model.LinearRegression()"
   ]
  },
  {
   "cell_type": "code",
   "execution_count": 16,
   "metadata": {},
   "outputs": [
    {
     "data": {
      "text/plain": [
       "LinearRegression(copy_X=True, fit_intercept=True, n_jobs=None, normalize=False)"
      ]
     },
     "execution_count": 16,
     "metadata": {},
     "output_type": "execute_result"
    }
   ],
   "source": [
    "reg.fit(X_train, y_train)"
   ]
  },
  {
   "cell_type": "code",
   "execution_count": 24,
   "metadata": {},
   "outputs": [],
   "source": [
    "y_pred = reg.predict(X_test)"
   ]
  },
  {
   "cell_type": "code",
   "execution_count": 27,
   "metadata": {},
   "outputs": [
    {
     "name": "stdout",
     "output_type": "stream",
     "text": [
      "[[4205686.76284829]\n",
      " [3426588.9140779 ]\n",
      " [  -7684.00187227]\n",
      " ...\n",
      " [3696715.95376353]\n",
      " [3735540.72479995]\n",
      " [3105748.51349962]]\n"
     ]
    }
   ],
   "source": [
    "print(y_pred)"
   ]
  },
  {
   "cell_type": "code",
   "execution_count": 28,
   "metadata": {},
   "outputs": [
    {
     "name": "stdout",
     "output_type": "stream",
     "text": [
      "       house_price\n",
      "7142     1585000.0\n",
      "9669     4995000.0\n",
      "3111     1298000.0\n",
      "327      2895000.0\n",
      "4098      795000.0\n",
      "...            ...\n",
      "5107    12500000.0\n",
      "5318     1795000.0\n",
      "10        445000.0\n",
      "10120    3750000.0\n",
      "11044    2895000.0\n",
      "\n",
      "[4209 rows x 1 columns]\n"
     ]
    }
   ],
   "source": [
    "print(y_test)"
   ]
  },
  {
   "cell_type": "code",
   "execution_count": 19,
   "metadata": {},
   "outputs": [
    {
     "name": "stdout",
     "output_type": "stream",
     "text": [
      "Interccept: \n",
      " [-9145743.60237708]\n"
     ]
    }
   ],
   "source": [
    "print('Interccept: \\n', reg.intercept_)"
   ]
  },
  {
   "cell_type": "code",
   "execution_count": 22,
   "metadata": {},
   "outputs": [
    {
     "name": "stdout",
     "output_type": "stream",
     "text": [
      "Coefficients: \n",
      " [[  -436.79275813 -18806.12857157  19120.8149483    6206.98762562]]\n"
     ]
    }
   ],
   "source": [
    "print('Coefficients: \\n', reg.coef_)"
   ]
  }
 ],
 "metadata": {
  "kernelspec": {
   "display_name": "Python 3",
   "language": "python",
   "name": "python3"
  },
  "language_info": {
   "codemirror_mode": {
    "name": "ipython",
    "version": 3
   },
   "file_extension": ".py",
   "mimetype": "text/x-python",
   "name": "python",
   "nbconvert_exporter": "python",
   "pygments_lexer": "ipython3",
   "version": "3.7.6"
  }
 },
 "nbformat": 4,
 "nbformat_minor": 4
}
