{
 "cells": [
  {
   "cell_type": "code",
   "execution_count": 2,
   "metadata": {},
   "outputs": [
    {
     "name": "stdout",
     "output_type": "stream",
     "text": [
      "195.000 \n",
      "285.000 \n",
      "295.000 \n",
      "325.000 \n",
      "350.000 \n",
      "395.000 \n",
      "395.000 \n",
      "395.000 \n",
      "398.000 \n",
      "398.000 \n",
      "410.000 \n",
      "434.000 \n",
      "495.000 \n",
      "545.000 \n",
      "550.000 \n",
      "565.000 \n",
      "595.000 \n",
      "595.000 \n",
      "595.000 \n",
      "649.000 \n",
      "650.000 \n",
      "665.000 \n",
      "675.000 \n",
      "695.000 \n",
      "695.000 \n",
      "695.000 \n",
      "700.000 \n",
      "725.000 \n",
      "735.000 \n",
      "745.000 \n",
      "745.000 \n"
     ]
    }
   ],
   "source": [
    "from src.webscraping import residence\n",
    "from src.webscraping import webscraper as ws\n",
    "\n",
    "list = ws.get_all_residences_to_list(residence)\n",
    "\n",
    "ws.residences_to_csv(list, \"src/data/residence.csv\")"
   ]
  }
 ],
 "metadata": {
  "kernelspec": {
   "display_name": "Python 3",
   "language": "python",
   "name": "python3"
  },
  "language_info": {
   "codemirror_mode": {
    "name": "ipython",
    "version": 3
   },
   "file_extension": ".py",
   "mimetype": "text/x-python",
   "name": "python",
   "nbconvert_exporter": "python",
   "pygments_lexer": "ipython3",
   "version": "3.7.6"
  }
 },
 "nbformat": 4,
 "nbformat_minor": 4
}
